{
 "cells": [
  {
   "cell_type": "markdown",
   "metadata": {},
   "source": [
    "# NBA Games Predictor\n",
    "### Author: Noah Chinitz (noahchinitz@gwu.edu)\n",
    "### GitHub: NoahChinitzGWU\n",
    "\n",
    "*A neural network that predicts if the home team won, or lost, in any previous NBA game. Created using Keras.*"
   ]
  },
  {
   "cell_type": "markdown",
   "metadata": {},
   "source": [
    "---\n",
    "\n",
    "**TensorBoard Block:** Run TensorBoard after running model.fit() to see previous run's accuracy and loss\n",
    "\n",
    "---"
   ]
  },
  {
   "cell_type": "code",
   "execution_count": null,
   "metadata": {},
   "outputs": [],
   "source": [
    "%load_ext tensorboard"
   ]
  },
  {
   "cell_type": "markdown",
   "metadata": {},
   "source": [
    "---\n",
    "\n",
    "**Data Engineering Block:** Convert `games.csv` to a Pandas DataFrame and manipulate it.\n",
    "\n",
    "**Current implementation:** Must remove Win/Loss Column as well as any non-numerical column (ex. team abbreviations). Moreover, we must create a label column which mirrors the Win/Loss column. We create our x and y arrays as well as testing and training data sets. Lastly, we must scale the data to unit variance.\n",
    "\n",
    "---"
   ]
  },
  {
   "cell_type": "code",
   "execution_count": null,
   "metadata": {},
   "outputs": [],
   "source": [
    "import numpy as np\n",
    "import pandas as pd\n",
    "import tensorflow as tf\n",
    "from datetime import datetime\n",
    "from keras.models import Sequential\n",
    "from keras.layers import Dense, Dropout\n",
    "from sklearn.preprocessing import StandardScaler\n",
    "from sklearn.model_selection import train_test_split\n",
    "\n",
    "# Read in games.csv\n",
    "df = pd.read_csv('games.csv')\n",
    "\n",
    "# Remove all non-numerical fields\n",
    "fields = list(df.columns)\n",
    "fields.remove('TEAM_ABBREVIATION_AWAY')\n",
    "fields.remove('TEAM_ABBREVIATION_HOME')\n",
    "fields.remove('WL_HOME')\n",
    "\n",
    "# Create label column\n",
    "df['label'] = df['WL_HOME']\n",
    "\n",
    "# Convert a subsection of the DataFrame to a numpy array, removing any NaN values (samples), and convert the values of the fields to a list (features)\n",
    "x = np.array(df[df['WL_HOME'].isin([0.0, 1.0])][fields].values.tolist()) # x[samples, features]\n",
    "# Convert a subsection of the DataFrame to a numpy array, removing any NaN values, and convert the value to an integer (binary label)\n",
    "y = np.array(df[df['WL_HOME'].isin([0.0, 1.0])]['label'].to_list()).astype(int).reshape(-1, 1)  # y[labels]\n",
    "\n",
    "# Remove data mean and scale to unit variance (range=[-1, 1])\n",
    "scaler = StandardScaler()\n",
    "x[:, 1::] = scaler.fit_transform(x[:, 1::])\n",
    "\n",
    "# Take 70% of data for training, 30% of data for validation\n",
    "X_train, X_test, y_train, y_test = train_test_split(x, y, test_size=0.3, random_state=42, shuffle=True)\n",
    "\n",
    "# Pull out GAME_ID's so that results can be linked back to team names (Index of GAME_ID changes during shuffling)\n",
    "train_ids = X_train[:, 0]\n",
    "test_ids = X_test[:, 0]\n",
    "\n",
    "# Remove GAME_ID's from set of features (not useful for training)\n",
    "X_train = X_train[:, 1::]\n",
    "X_test = X_test[:, 1::]"
   ]
  },
  {
   "cell_type": "markdown",
   "metadata": {},
   "source": [
    "---\n",
    "\n",
    "**Model Block:** Compile the model. \n",
    "\n",
    "**Current implementation:** Input -> Dense -> Dense -> Dropout -> Output. Using Adam optimizer with Binary Cross Entropy.\n",
    "\n",
    "---"
   ]
  },
  {
   "cell_type": "code",
   "execution_count": null,
   "metadata": {},
   "outputs": [],
   "source": [
    "# Create the sequential fully-connected model\n",
    "model = Sequential()\n",
    "model.add(Dense(12, input_dim=19, activation='relu'))\n",
    "model.add(Dense(8, activation='relu'))\n",
    "model.add(Dropout(0.2)) # Add dropout to help reduce overfitting\n",
    "model.add(Dense(1, activation='sigmoid')) # Add Sigmoid to ensure the output sums to one\n",
    "\n",
    "# Compile the model using Adam and Binary Cross Entropy Loss\n",
    "model.compile(\n",
    "    optimizer=tf.optimizers.Adam(learning_rate=0.001),\n",
    "    loss=tf.losses.BinaryCrossentropy(),\n",
    "    metrics=['accuracy'],\n",
    ")"
   ]
  },
  {
   "cell_type": "markdown",
   "metadata": {},
   "source": [
    "---\n",
    "\n",
    "**Model Fit Block:** Run our model with the engineered data (as well as log all data for TensorBoard)\n",
    "\n",
    "**Current implementation:** Create a log directory for the model and then fit it.\n",
    "\n",
    "---"
   ]
  },
  {
   "cell_type": "code",
   "execution_count": 4,
   "metadata": {},
   "outputs": [
    {
     "name": "stdout",
     "output_type": "stream",
     "text": [
      "Epoch 1/10\n",
      "7195/7195 [==============================] - 8s 1ms/step - loss: 0.5124 - accuracy: 0.7518 - val_loss: 0.4686 - val_accuracy: 0.7713\n",
      "Epoch 2/10\n",
      "7195/7195 [==============================] - 8s 1ms/step - loss: 0.4740 - accuracy: 0.7791 - val_loss: 0.4647 - val_accuracy: 0.7722\n",
      "Epoch 3/10\n",
      "7195/7195 [==============================] - 8s 1ms/step - loss: 0.4676 - accuracy: 0.7789 - val_loss: 0.4631 - val_accuracy: 0.7758\n",
      "Epoch 4/10\n",
      "7195/7195 [==============================] - 8s 1ms/step - loss: 0.4665 - accuracy: 0.7775 - val_loss: 0.4629 - val_accuracy: 0.7745\n",
      "Epoch 5/10\n",
      "7195/7195 [==============================] - 9s 1ms/step - loss: 0.4640 - accuracy: 0.7803 - val_loss: 0.4627 - val_accuracy: 0.7756\n",
      "Epoch 6/10\n",
      "7195/7195 [==============================] - 10s 1ms/step - loss: 0.4636 - accuracy: 0.7787 - val_loss: 0.4609 - val_accuracy: 0.7765\n",
      "Epoch 7/10\n",
      "7195/7195 [==============================] - 10s 1ms/step - loss: 0.4617 - accuracy: 0.7818 - val_loss: 0.4638 - val_accuracy: 0.7740\n",
      "Epoch 8/10\n",
      "7195/7195 [==============================] - 11s 2ms/step - loss: 0.4630 - accuracy: 0.7809 - val_loss: 0.4631 - val_accuracy: 0.7739\n",
      "Epoch 9/10\n",
      "7195/7195 [==============================] - 9s 1ms/step - loss: 0.4603 - accuracy: 0.7810 - val_loss: 0.4646 - val_accuracy: 0.7747\n",
      "Epoch 10/10\n",
      "7195/7195 [==============================] - 9s 1ms/step - loss: 0.4612 - accuracy: 0.7797 - val_loss: 0.4612 - val_accuracy: 0.7739\n"
     ]
    },
    {
     "data": {
      "text/plain": [
       "<keras.callbacks.History at 0x7f9b194a2850>"
      ]
     },
     "execution_count": 4,
     "metadata": {},
     "output_type": "execute_result"
    }
   ],
   "source": [
    "# Create the log directory for TensorBoard\n",
    "log_dir = \"logs/fit/\" + datetime.now().strftime(\"%Y%m%d-%H%M%S\")\n",
    "tb_callback = tf.keras.callbacks.TensorBoard(log_dir='logs/')\n",
    "\n",
    "# Fit the model, remembering to add callbacks for TensorBoard\n",
    "model.fit(\n",
    "    X_train,\n",
    "    y_train,\n",
    "    validation_data=(X_test,y_test),\n",
    "    epochs=10,\n",
    "    batch_size=4,\n",
    "    callbacks=[tb_callback]\n",
    ")"
   ]
  },
  {
   "cell_type": "markdown",
   "metadata": {},
   "source": [
    "---\n",
    "\n",
    "**References:**  \n",
    "*[Building our first neural network in keras](https://towardsdatascience.com/building-our-first-neural-network-in-keras-bdc8abbc17f5)*  \n",
    "*[Model training APIs](https://keras.io/api/models/model_training_apis/)*  \n",
    "*[Probabilistic losses](https://keras.io/api/losses/probabilistic_losses/)*  \n",
    "*[Training and evaluation with the built-in methods](https://www.tensorflow.org/guide/keras/train_and_evaluate#other_input_formats_supported)*  \n",
    "*[sklearn.model_selection.train_test_split](https://scikit-learn.org/stable/modules/generated/sklearn.model_selection.train_test_split.html)*  \n",
    "*[sklearn.metrics.confusion_matrix](https://scikit-learn.org/stable/modules/generated/sklearn.metrics.confusion_matrix.html)*  \n",
    "*[Markdown Cheat Sheet](https://www.markdownguide.org/cheat-sheet/)*  \n",
    "*[Getting started with TensorBoard](https://www.tensorflow.org/tensorboard/get_started)*  \n",
    "*[sklearn.preprocessing.StandardScaler](https://scikit-learn.org/stable/modules/generated/sklearn.preprocessing.StandardScaler.html)*  \n",
    "\n",
    "---"
   ]
  }
 ],
 "metadata": {
  "kernelspec": {
   "display_name": "Python 3.8.10 ('celticspredictor-nmc-s7tCgIk1-py3.8')",
   "language": "python",
   "name": "python3"
  },
  "language_info": {
   "codemirror_mode": {
    "name": "ipython",
    "version": 3
   },
   "file_extension": ".py",
   "mimetype": "text/x-python",
   "name": "python",
   "nbconvert_exporter": "python",
   "pygments_lexer": "ipython3",
   "version": "3.8.10"
  },
  "orig_nbformat": 4,
  "vscode": {
   "interpreter": {
    "hash": "790d2d12ab0474c4b8fcc5efe569c50ede3f08a4a84e695a51a15a2af523bd57"
   }
  }
 },
 "nbformat": 4,
 "nbformat_minor": 2
}
