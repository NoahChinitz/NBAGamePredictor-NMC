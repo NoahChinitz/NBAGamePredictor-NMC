{
 "cells": [
  {
   "cell_type": "markdown",
   "metadata": {},
   "source": [
    "# NBA Games Predictor\n",
    "### Author: Noah Chinitz (noahchinitz@gwu.edu)\n",
    "### GitHub: NoahChinitzGWU\n",
    "\n",
    "*A neural network that predicts if the home team won, or lost, in any previous NBA game. Created using Keras.*"
   ]
  },
  {
   "cell_type": "markdown",
   "metadata": {},
   "source": [
    "---\n",
    "\n",
    "**TensorBoard Block:** Run TensorBoard after running model.fit() to see previous run's accuracy and loss\n",
    "\n",
    "---"
   ]
  },
  {
   "cell_type": "code",
   "execution_count": null,
   "metadata": {},
   "outputs": [],
   "source": [
    "%load_ext tensorboard"
   ]
  },
  {
   "cell_type": "markdown",
   "metadata": {},
   "source": [
    "---\n",
    "\n",
    "**Data Engineering Block:** Convert `games.csv` to a Pandas DataFrame and manipulate it.\n",
    "\n",
    "**Current implementation:** Must remove Win/Loss Column as well as any non-numerical column (ex. team abbreviations). Moreover, we must create a label column which mirrors the Win/Loss column. We create our x and y arrays as well as testing and training data sets.\n",
    "\n",
    "---"
   ]
  },
  {
   "cell_type": "code",
   "execution_count": null,
   "metadata": {},
   "outputs": [],
   "source": [
    "import numpy as np\n",
    "import pandas as pd\n",
    "import tensorflow as tf\n",
    "from datetime import datetime\n",
    "from keras.models import Sequential\n",
    "from keras.layers import Dense, Dropout\n",
    "from sklearn.model_selection import train_test_split\n",
    "from sklearn.metrics import accuracy_score, confusion_matrix\n",
    "\n",
    "# Read in games.csv\n",
    "df = pd.read_csv('games.csv')\n",
    "\n",
    "# Remove all non-numerical fields\n",
    "fields = list(df.columns)\n",
    "fields.remove('TEAM_ABBREVIATION_AWAY')\n",
    "fields.remove('TEAM_ABBREVIATION_HOME')\n",
    "fields.remove('WL_HOME')\n",
    "\n",
    "# Create label column\n",
    "df['label'] = df['WL_HOME']\n",
    "\n",
    "# Convert a subsection of the DataFrame to a numpy array, removing any NaN values (samples), and convert the values of the fields to a list (features)\n",
    "x = np.array(df[df['WL_HOME'].isin([0.0, 1.0])][fields].values.tolist()) # x[samples, features]\n",
    "# Convert a subsection of the DataFrame to a numpy array, removing any NaN values, and convert the value to an integer (binary label)\n",
    "y = np.array(df[df['WL_HOME'].isin([0.0, 1.0])]['label'].to_list()).astype(int).reshape(-1, 1)  # y[labels]\n",
    "\n",
    "# Take 70% of data for training, 30% of data for validation\n",
    "X_train, X_test, y_train, y_test = train_test_split(x, y, test_size=0.3, random_state=42, shuffle=True)\n",
    "\n",
    "# Pull out GAME_ID's so that results can be linked back to team names (Index of GAME_ID changes during shuffling)\n",
    "train_ids = X_train[:, 0]\n",
    "test_ids = X_test[:, 0]\n",
    "# Remove GAME_ID's from set of features (not useful for training)\n",
    "X_train = X_train[:, 1::]\n",
    "X_test = X_test[:, 1::]"
   ]
  },
  {
   "cell_type": "markdown",
   "metadata": {},
   "source": [
    "---\n",
    "\n",
    "**Model Block:** Compile the model. \n",
    "\n",
    "**Current implementation:** Input -> Dense -> Dense -> Dropout -> Output. Using Adam optimizer with Binary Cross Entropy.\n",
    "\n",
    "---"
   ]
  },
  {
   "cell_type": "code",
   "execution_count": null,
   "metadata": {},
   "outputs": [],
   "source": [
    "# Create the sequential fully-connected model\n",
    "model = Sequential()\n",
    "model.add(Dense(12, input_dim=19, activation='relu'))\n",
    "model.add(Dense(8, activation='relu'))\n",
    "model.add(Dropout(0.2)) # Add dropout to help reduce overfitting\n",
    "model.add(Dense(1, activation='sigmoid')) # Add Sigmoid to ensure the output sums to one\n",
    "\n",
    "# Compile the model using Adam and Binary Cross Entropy Loss\n",
    "model.compile(\n",
    "    optimizer=tf.optimizers.Adam(learning_rate=0.001),\n",
    "    loss=tf.losses.BinaryCrossentropy(),\n",
    "    metrics=['accuracy'],\n",
    ")"
   ]
  },
  {
   "cell_type": "markdown",
   "metadata": {},
   "source": [
    "---\n",
    "\n",
    "**Model Fit Block:** Run our model with the engineered data (as well as log all data for TensorBoard)\n",
    "\n",
    "**Current implementation:** Create a log directory for the model and then fit it.\n",
    "\n",
    "---"
   ]
  },
  {
   "cell_type": "code",
   "execution_count": null,
   "metadata": {},
   "outputs": [],
   "source": [
    "# Create the log directory for TensorBoard\n",
    "log_dir = \"logs/fit/\" + datetime.now().strftime(\"%Y%m%d-%H%M%S\")\n",
    "tensorboard_callback = tf.keras.callbacks.TensorBoard(log_dir='logs/')\n",
    "\n",
    "# Fit the model, remembering to add callbacks for TensorBoard\n",
    "model.fit(\n",
    "    X_train,\n",
    "    y_train,\n",
    "    validation_data=(X_test,y_test),\n",
    "    epochs=10,\n",
    "    batch_size=4,\n",
    "    callbacks=[tensorboard_callback]\n",
    ")"
   ]
  },
  {
   "cell_type": "markdown",
   "metadata": {},
   "source": [
    "---\n",
    "\n",
    "**Accuracy Score and Confusion Matrix Blocks:** Create an accuracy score and confusion matrix for later use in presentation\n",
    "\n",
    "**Current implementation:** Make a prediction and use it for accuracy score and confusion matrix function calls\n",
    "\n",
    "---"
   ]
  },
  {
   "cell_type": "code",
   "execution_count": null,
   "metadata": {},
   "outputs": [],
   "source": [
    "pred = model.predict(X_test).round(0)\n",
    "accuracy_score(y_test, np.array(pred).reshape(-1, 1))"
   ]
  },
  {
   "cell_type": "code",
   "execution_count": null,
   "metadata": {},
   "outputs": [],
   "source": [
    "confusion_matrix(y_test, np.array(pred).reshape(-1, 1))"
   ]
  },
  {
   "cell_type": "markdown",
   "metadata": {},
   "source": [
    "---\n",
    "\n",
    "**References:**  \n",
    "*[Building our first neural network in keras](https://towardsdatascience.com/building-our-first-neural-network-in-keras-bdc8abbc17f5)*  \n",
    "*[Model training APIs](https://keras.io/api/models/model_training_apis/)*  \n",
    "*[Probabilistic losses](https://keras.io/api/losses/probabilistic_losses/)*  \n",
    "*[Training and evaluation with the built-in methods](https://www.tensorflow.org/guide/keras/train_and_evaluate#other_input_formats_supported)*  \n",
    "*[sklearn.model_selection.train_test_split](https://scikit-learn.org/stable/modules/generated/sklearn.model_selection.train_test_split.html)*  \n",
    "*[sklearn.metrics.confusion_matrix](https://scikit-learn.org/stable/modules/generated/sklearn.metrics.confusion_matrix.html)*  \n",
    "*[Markdown Cheat Sheet](https://www.markdownguide.org/cheat-sheet/)*  \n",
    "*[Getting started with TensorBoard](https://www.tensorflow.org/tensorboard/get_started)*  \n",
    "\n",
    "---"
   ]
  }
 ],
 "metadata": {
  "kernelspec": {
   "display_name": "Python 3.8.10 ('celticspredictor-nmc-s7tCgIk1-py3.8')",
   "language": "python",
   "name": "python3"
  },
  "language_info": {
   "codemirror_mode": {
    "name": "ipython",
    "version": 3
   },
   "file_extension": ".py",
   "mimetype": "text/x-python",
   "name": "python",
   "nbconvert_exporter": "python",
   "pygments_lexer": "ipython3",
   "version": "3.8.10"
  },
  "orig_nbformat": 4,
  "vscode": {
   "interpreter": {
    "hash": "790d2d12ab0474c4b8fcc5efe569c50ede3f08a4a84e695a51a15a2af523bd57"
   }
  }
 },
 "nbformat": 4,
 "nbformat_minor": 2
}
