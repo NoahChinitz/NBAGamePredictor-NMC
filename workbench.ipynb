{
 "cells": [
  {
   "cell_type": "code",
   "execution_count": 2,
   "metadata": {},
   "outputs": [],
   "source": [
    "import sqlite3 as sqlite\n",
    "import numpy as np\n",
    "import pandas as pd"
   ]
  },
  {
   "cell_type": "code",
   "execution_count": 16,
   "metadata": {},
   "outputs": [],
   "source": [
    "BBALL_DATASET = '../CelticsPredictor-NMC/data/basketball.sqlite'\n",
    "TEAM_ABBREVIATION_HOME = 'BOS'\n",
    "\n",
    "conn = sqlite.connect(BBALL_DATASET)\n",
    "curs = conn.cursor()\n",
    "query = f'SELECT MATCHUP_HOME, GAME_DATE, WL_HOME FROM Game WHERE TEAM_ABBREVIATION_HOME=\"{TEAM_ABBREVIATION_HOME}\" AND GAME_DATE=\"2021-05-11\"'\n",
    "curs.execute(query)\n",
    "example = curs.fetchone()"
   ]
  },
  {
   "cell_type": "code",
   "execution_count": 17,
   "metadata": {},
   "outputs": [
    {
     "data": {
      "text/plain": [
       "('BOS vs. MIA', '2021-05-11', 'L')"
      ]
     },
     "execution_count": 17,
     "metadata": {},
     "output_type": "execute_result"
    }
   ],
   "source": [
    "example"
   ]
  }
 ],
 "metadata": {
  "kernelspec": {
   "display_name": "Python 3.8.10 64-bit",
   "language": "python",
   "name": "python3"
  },
  "language_info": {
   "codemirror_mode": {
    "name": "ipython",
    "version": 3
   },
   "file_extension": ".py",
   "mimetype": "text/x-python",
   "name": "python",
   "nbconvert_exporter": "python",
   "pygments_lexer": "ipython3",
   "version": "3.8.10"
  },
  "orig_nbformat": 4,
  "vscode": {
   "interpreter": {
    "hash": "31f2aee4e71d21fbe5cf8b01ff0e069b9275f58929596ceb00d14d90e3e16cd6"
   }
  }
 },
 "nbformat": 4,
 "nbformat_minor": 2
}
